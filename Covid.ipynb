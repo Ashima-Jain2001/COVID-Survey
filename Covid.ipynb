{
  "nbformat": 4,
  "nbformat_minor": 0,
  "metadata": {
    "colab": {
      "name": "Covid.ipynb",
      "provenance": [],
      "authorship_tag": "ABX9TyMHYfBFlKHjsV7s9Y+Xi2pV"
    },
    "kernelspec": {
      "name": "python3",
      "display_name": "Python 3"
    },
    "language_info": {
      "name": "python"
    }
  },
  "cells": [
    {
      "cell_type": "code",
      "metadata": {
        "id": "6aGgTmVgcF-j"
      },
      "source": [
        "import matplotlib.pyplot as plt\n",
        "import tensorflow as tf\n",
        "from tensorflow import keras\n",
        "import pandas as pd\n",
        "import numpy as np"
      ],
      "execution_count": null,
      "outputs": []
    },
    {
      "cell_type": "code",
      "metadata": {
        "id": "4iOWam5YdTCJ"
      },
      "source": [
        "import os"
      ],
      "execution_count": null,
      "outputs": []
    },
    {
      "cell_type": "code",
      "metadata": {
        "id": "r_pdzW84cVA3"
      },
      "source": [
        "csv_path=\"covidCSV.csv\"\n",
        "df = pd.read_csv(csv_path)"
      ],
      "execution_count": null,
      "outputs": []
    },
    {
      "cell_type": "code",
      "metadata": {
        "colab": {
          "base_uri": "https://localhost:8080/",
          "height": 423
        },
        "id": "26rqcN-wehwU",
        "outputId": "6945d546-9079-433a-afb6-b110b24c2ee9"
      },
      "source": [
        "df"
      ],
      "execution_count": null,
      "outputs": [
        {
          "output_type": "execute_result",
          "data": {
            "text/html": [
              "<div>\n",
              "<style scoped>\n",
              "    .dataframe tbody tr th:only-of-type {\n",
              "        vertical-align: middle;\n",
              "    }\n",
              "\n",
              "    .dataframe tbody tr th {\n",
              "        vertical-align: top;\n",
              "    }\n",
              "\n",
              "    .dataframe thead th {\n",
              "        text-align: right;\n",
              "    }\n",
              "</style>\n",
              "<table border=\"1\" class=\"dataframe\">\n",
              "  <thead>\n",
              "    <tr style=\"text-align: right;\">\n",
              "      <th></th>\n",
              "      <th>Age_Group</th>\n",
              "      <th>Gender</th>\n",
              "      <th>Menta_Stress</th>\n",
              "      <th>Precautions</th>\n",
              "      <th>Covid_Infection</th>\n",
              "      <th>Physical/Mental_Compli</th>\n",
              "      <th>Vaccinated</th>\n",
              "      <th>Willing</th>\n",
              "      <th>Preventive_Steps</th>\n",
              "    </tr>\n",
              "  </thead>\n",
              "  <tbody>\n",
              "    <tr>\n",
              "      <th>0</th>\n",
              "      <td>19-30 years</td>\n",
              "      <td>Male</td>\n",
              "      <td>Yes</td>\n",
              "      <td>Yes</td>\n",
              "      <td>Yes</td>\n",
              "      <td>Yes</td>\n",
              "      <td>Yes</td>\n",
              "      <td>NaN</td>\n",
              "      <td>Yes</td>\n",
              "    </tr>\n",
              "    <tr>\n",
              "      <th>1</th>\n",
              "      <td>19-30 years</td>\n",
              "      <td>Female</td>\n",
              "      <td>Yes</td>\n",
              "      <td>Yes</td>\n",
              "      <td>Yes</td>\n",
              "      <td>Yes</td>\n",
              "      <td>Yes</td>\n",
              "      <td>Yes</td>\n",
              "      <td>Yes</td>\n",
              "    </tr>\n",
              "    <tr>\n",
              "      <th>2</th>\n",
              "      <td>19-30 years</td>\n",
              "      <td>Female</td>\n",
              "      <td>Yes</td>\n",
              "      <td>Yes</td>\n",
              "      <td>No</td>\n",
              "      <td>No</td>\n",
              "      <td>Yes</td>\n",
              "      <td>NaN</td>\n",
              "      <td>Yes</td>\n",
              "    </tr>\n",
              "    <tr>\n",
              "      <th>3</th>\n",
              "      <td>19-30 years</td>\n",
              "      <td>Male</td>\n",
              "      <td>Yes</td>\n",
              "      <td>Yes</td>\n",
              "      <td>No</td>\n",
              "      <td>No</td>\n",
              "      <td>No</td>\n",
              "      <td>Yes</td>\n",
              "      <td>Yes</td>\n",
              "    </tr>\n",
              "    <tr>\n",
              "      <th>4</th>\n",
              "      <td>19-30 years</td>\n",
              "      <td>Female</td>\n",
              "      <td>Yes</td>\n",
              "      <td>Yes</td>\n",
              "      <td>No</td>\n",
              "      <td>NaN</td>\n",
              "      <td>Yes</td>\n",
              "      <td>NaN</td>\n",
              "      <td>Yes</td>\n",
              "    </tr>\n",
              "    <tr>\n",
              "      <th>...</th>\n",
              "      <td>...</td>\n",
              "      <td>...</td>\n",
              "      <td>...</td>\n",
              "      <td>...</td>\n",
              "      <td>...</td>\n",
              "      <td>...</td>\n",
              "      <td>...</td>\n",
              "      <td>...</td>\n",
              "      <td>...</td>\n",
              "    </tr>\n",
              "    <tr>\n",
              "      <th>96</th>\n",
              "      <td>19-30 years</td>\n",
              "      <td>Female</td>\n",
              "      <td>Yes</td>\n",
              "      <td>Yes</td>\n",
              "      <td>No</td>\n",
              "      <td>No</td>\n",
              "      <td>Yes</td>\n",
              "      <td>Yes</td>\n",
              "      <td>Yes</td>\n",
              "    </tr>\n",
              "    <tr>\n",
              "      <th>97</th>\n",
              "      <td>19-30 years</td>\n",
              "      <td>Male</td>\n",
              "      <td>Yes</td>\n",
              "      <td>Yes</td>\n",
              "      <td>No</td>\n",
              "      <td>No</td>\n",
              "      <td>Yes</td>\n",
              "      <td>NaN</td>\n",
              "      <td>Yes</td>\n",
              "    </tr>\n",
              "    <tr>\n",
              "      <th>98</th>\n",
              "      <td>5-18 years</td>\n",
              "      <td>Female</td>\n",
              "      <td>Yes</td>\n",
              "      <td>Yes</td>\n",
              "      <td>No</td>\n",
              "      <td>NaN</td>\n",
              "      <td>No</td>\n",
              "      <td>Yes</td>\n",
              "      <td>NaN</td>\n",
              "    </tr>\n",
              "    <tr>\n",
              "      <th>99</th>\n",
              "      <td>5-18 years</td>\n",
              "      <td>Female</td>\n",
              "      <td>Yes</td>\n",
              "      <td>Yes</td>\n",
              "      <td>No</td>\n",
              "      <td>NaN</td>\n",
              "      <td>No</td>\n",
              "      <td>Yes</td>\n",
              "      <td>Yes</td>\n",
              "    </tr>\n",
              "    <tr>\n",
              "      <th>100</th>\n",
              "      <td>19-30 years</td>\n",
              "      <td>Female</td>\n",
              "      <td>No</td>\n",
              "      <td>Yes</td>\n",
              "      <td>No</td>\n",
              "      <td>No</td>\n",
              "      <td>Yes</td>\n",
              "      <td>NaN</td>\n",
              "      <td>Yes</td>\n",
              "    </tr>\n",
              "  </tbody>\n",
              "</table>\n",
              "<p>101 rows × 9 columns</p>\n",
              "</div>"
            ],
            "text/plain": [
              "       Age_Group  Gender Menta_Stress  ... Vaccinated Willing Preventive_Steps\n",
              "0    19-30 years    Male          Yes  ...        Yes     NaN              Yes\n",
              "1    19-30 years  Female          Yes  ...        Yes     Yes              Yes\n",
              "2    19-30 years  Female          Yes  ...        Yes     NaN              Yes\n",
              "3    19-30 years    Male          Yes  ...         No     Yes              Yes\n",
              "4    19-30 years  Female          Yes  ...        Yes     NaN              Yes\n",
              "..           ...     ...          ...  ...        ...     ...              ...\n",
              "96   19-30 years  Female          Yes  ...        Yes     Yes              Yes\n",
              "97   19-30 years    Male          Yes  ...        Yes     NaN              Yes\n",
              "98    5-18 years  Female          Yes  ...         No     Yes              NaN\n",
              "99    5-18 years  Female          Yes  ...         No     Yes              Yes\n",
              "100  19-30 years  Female           No  ...        Yes     NaN              Yes\n",
              "\n",
              "[101 rows x 9 columns]"
            ]
          },
          "metadata": {},
          "execution_count": 10
        }
      ]
    },
    {
      "cell_type": "code",
      "metadata": {
        "colab": {
          "base_uri": "https://localhost:8080/",
          "height": 331
        },
        "id": "MTZklddVem8O",
        "outputId": "f1234689-fa71-4801-fe53-40c23e47f217"
      },
      "source": [
        "df=df.apply(lambda x: x.factorize()[0]).corr()\n",
        "df"
      ],
      "execution_count": null,
      "outputs": [
        {
          "output_type": "execute_result",
          "data": {
            "text/html": [
              "<div>\n",
              "<style scoped>\n",
              "    .dataframe tbody tr th:only-of-type {\n",
              "        vertical-align: middle;\n",
              "    }\n",
              "\n",
              "    .dataframe tbody tr th {\n",
              "        vertical-align: top;\n",
              "    }\n",
              "\n",
              "    .dataframe thead th {\n",
              "        text-align: right;\n",
              "    }\n",
              "</style>\n",
              "<table border=\"1\" class=\"dataframe\">\n",
              "  <thead>\n",
              "    <tr style=\"text-align: right;\">\n",
              "      <th></th>\n",
              "      <th>Age_Group</th>\n",
              "      <th>Gender</th>\n",
              "      <th>Menta_Stress</th>\n",
              "      <th>Precautions</th>\n",
              "      <th>Covid_Infection</th>\n",
              "      <th>Physical/Mental_Compli</th>\n",
              "      <th>Vaccinated</th>\n",
              "      <th>Willing</th>\n",
              "      <th>Preventive_Steps</th>\n",
              "    </tr>\n",
              "  </thead>\n",
              "  <tbody>\n",
              "    <tr>\n",
              "      <th>Age_Group</th>\n",
              "      <td>1.000000</td>\n",
              "      <td>-0.030628</td>\n",
              "      <td>-0.179760</td>\n",
              "      <td>-0.015154</td>\n",
              "      <td>-0.042824</td>\n",
              "      <td>-0.150928</td>\n",
              "      <td>-0.069302</td>\n",
              "      <td>-0.137744</td>\n",
              "      <td>-0.048029</td>\n",
              "    </tr>\n",
              "    <tr>\n",
              "      <th>Gender</th>\n",
              "      <td>-0.030628</td>\n",
              "      <td>1.000000</td>\n",
              "      <td>-0.083290</td>\n",
              "      <td>-0.161136</td>\n",
              "      <td>0.060593</td>\n",
              "      <td>-0.163259</td>\n",
              "      <td>-0.028259</td>\n",
              "      <td>-0.004394</td>\n",
              "      <td>-0.085132</td>\n",
              "    </tr>\n",
              "    <tr>\n",
              "      <th>Menta_Stress</th>\n",
              "      <td>-0.179760</td>\n",
              "      <td>-0.083290</td>\n",
              "      <td>1.000000</td>\n",
              "      <td>0.149334</td>\n",
              "      <td>0.060241</td>\n",
              "      <td>0.026534</td>\n",
              "      <td>0.104648</td>\n",
              "      <td>0.010927</td>\n",
              "      <td>-0.101117</td>\n",
              "    </tr>\n",
              "    <tr>\n",
              "      <th>Precautions</th>\n",
              "      <td>-0.015154</td>\n",
              "      <td>-0.161136</td>\n",
              "      <td>0.149334</td>\n",
              "      <td>1.000000</td>\n",
              "      <td>-0.017656</td>\n",
              "      <td>0.082587</td>\n",
              "      <td>0.139331</td>\n",
              "      <td>0.248054</td>\n",
              "      <td>0.171212</td>\n",
              "    </tr>\n",
              "    <tr>\n",
              "      <th>Covid_Infection</th>\n",
              "      <td>-0.042824</td>\n",
              "      <td>0.060593</td>\n",
              "      <td>0.060241</td>\n",
              "      <td>-0.017656</td>\n",
              "      <td>1.000000</td>\n",
              "      <td>-0.286345</td>\n",
              "      <td>-0.073332</td>\n",
              "      <td>-0.061873</td>\n",
              "      <td>-0.151219</td>\n",
              "    </tr>\n",
              "    <tr>\n",
              "      <th>Physical/Mental_Compli</th>\n",
              "      <td>-0.150928</td>\n",
              "      <td>-0.163259</td>\n",
              "      <td>0.026534</td>\n",
              "      <td>0.082587</td>\n",
              "      <td>-0.286345</td>\n",
              "      <td>1.000000</td>\n",
              "      <td>-0.031231</td>\n",
              "      <td>0.260798</td>\n",
              "      <td>0.249377</td>\n",
              "    </tr>\n",
              "    <tr>\n",
              "      <th>Vaccinated</th>\n",
              "      <td>-0.069302</td>\n",
              "      <td>-0.028259</td>\n",
              "      <td>0.104648</td>\n",
              "      <td>0.139331</td>\n",
              "      <td>-0.073332</td>\n",
              "      <td>-0.031231</td>\n",
              "      <td>1.000000</td>\n",
              "      <td>0.663734</td>\n",
              "      <td>-0.051133</td>\n",
              "    </tr>\n",
              "    <tr>\n",
              "      <th>Willing</th>\n",
              "      <td>-0.137744</td>\n",
              "      <td>-0.004394</td>\n",
              "      <td>0.010927</td>\n",
              "      <td>0.248054</td>\n",
              "      <td>-0.061873</td>\n",
              "      <td>0.260798</td>\n",
              "      <td>0.663734</td>\n",
              "      <td>1.000000</td>\n",
              "      <td>-0.016012</td>\n",
              "    </tr>\n",
              "    <tr>\n",
              "      <th>Preventive_Steps</th>\n",
              "      <td>-0.048029</td>\n",
              "      <td>-0.085132</td>\n",
              "      <td>-0.101117</td>\n",
              "      <td>0.171212</td>\n",
              "      <td>-0.151219</td>\n",
              "      <td>0.249377</td>\n",
              "      <td>-0.051133</td>\n",
              "      <td>-0.016012</td>\n",
              "      <td>1.000000</td>\n",
              "    </tr>\n",
              "  </tbody>\n",
              "</table>\n",
              "</div>"
            ],
            "text/plain": [
              "                        Age_Group    Gender  ...   Willing  Preventive_Steps\n",
              "Age_Group                1.000000 -0.030628  ... -0.137744         -0.048029\n",
              "Gender                  -0.030628  1.000000  ... -0.004394         -0.085132\n",
              "Menta_Stress            -0.179760 -0.083290  ...  0.010927         -0.101117\n",
              "Precautions             -0.015154 -0.161136  ...  0.248054          0.171212\n",
              "Covid_Infection         -0.042824  0.060593  ... -0.061873         -0.151219\n",
              "Physical/Mental_Compli  -0.150928 -0.163259  ...  0.260798          0.249377\n",
              "Vaccinated              -0.069302 -0.028259  ...  0.663734         -0.051133\n",
              "Willing                 -0.137744 -0.004394  ...  1.000000         -0.016012\n",
              "Preventive_Steps        -0.048029 -0.085132  ... -0.016012          1.000000\n",
              "\n",
              "[9 rows x 9 columns]"
            ]
          },
          "metadata": {},
          "execution_count": 11
        }
      ]
    },
    {
      "cell_type": "code",
      "metadata": {
        "colab": {
          "base_uri": "https://localhost:8080/",
          "height": 379
        },
        "id": "GuUHylzZeqcN",
        "outputId": "eb5ee5c6-440f-497e-9f4a-4a955e131a04"
      },
      "source": [
        "plt.pcolor(df)\n",
        "plt.yticks(np.arange(0.5, len(df.index), 1), df.index)\n",
        "plt.xticks(np.arange(0.5, len(df.columns), 1), df.columns, rotation=90)\n",
        "cb = plt.colorbar()\n",
        "cb.ax.tick_params(labelsize=14)\n",
        "plt.show()"
      ],
      "execution_count": null,
      "outputs": [
        {
          "output_type": "display_data",
          "data": {
            "image/png": "[encoded data removed]",
            "text/plain": [
              "<Figure size 432x288 with 2 Axes>"
            ]
          },
          "metadata": {
            "needs_background": "light"
          }
        }
      ]
    },
    {
      "cell_type": "code",
      "metadata": {
        "colab": {
          "base_uri": "https://localhost:8080/",
          "height": 423
        },
        "id": "ZLqVcyFxewpe",
        "outputId": "660ef097-1833-462d-f315-e1df680eb778"
      },
      "source": [
        "csv_path=\"covidCSV.csv\"\n",
        "df_pre = pd.read_csv(\"covidCSV.csv\", usecols = ['Physical/Mental_Compli','Preventive_Steps'])\n",
        "df_pre"
      ],
      "execution_count": null,
      "outputs": [
        {
          "output_type": "execute_result",
          "data": {
            "text/html": [
              "<div>\n",
              "<style scoped>\n",
              "    .dataframe tbody tr th:only-of-type {\n",
              "        vertical-align: middle;\n",
              "    }\n",
              "\n",
              "    .dataframe tbody tr th {\n",
              "        vertical-align: top;\n",
              "    }\n",
              "\n",
              "    .dataframe thead th {\n",
              "        text-align: right;\n",
              "    }\n",
              "</style>\n",
              "<table border=\"1\" class=\"dataframe\">\n",
              "  <thead>\n",
              "    <tr style=\"text-align: right;\">\n",
              "      <th></th>\n",
              "      <th>Physical/Mental_Compli</th>\n",
              "      <th>Preventive_Steps</th>\n",
              "    </tr>\n",
              "  </thead>\n",
              "  <tbody>\n",
              "    <tr>\n",
              "      <th>0</th>\n",
              "      <td>Yes</td>\n",
              "      <td>Yes</td>\n",
              "    </tr>\n",
              "    <tr>\n",
              "      <th>1</th>\n",
              "      <td>Yes</td>\n",
              "      <td>Yes</td>\n",
              "    </tr>\n",
              "    <tr>\n",
              "      <th>2</th>\n",
              "      <td>No</td>\n",
              "      <td>Yes</td>\n",
              "    </tr>\n",
              "    <tr>\n",
              "      <th>3</th>\n",
              "      <td>No</td>\n",
              "      <td>Yes</td>\n",
              "    </tr>\n",
              "    <tr>\n",
              "      <th>4</th>\n",
              "      <td>NaN</td>\n",
              "      <td>Yes</td>\n",
              "    </tr>\n",
              "    <tr>\n",
              "      <th>...</th>\n",
              "      <td>...</td>\n",
              "      <td>...</td>\n",
              "    </tr>\n",
              "    <tr>\n",
              "      <th>96</th>\n",
              "      <td>No</td>\n",
              "      <td>Yes</td>\n",
              "    </tr>\n",
              "    <tr>\n",
              "      <th>97</th>\n",
              "      <td>No</td>\n",
              "      <td>Yes</td>\n",
              "    </tr>\n",
              "    <tr>\n",
              "      <th>98</th>\n",
              "      <td>NaN</td>\n",
              "      <td>NaN</td>\n",
              "    </tr>\n",
              "    <tr>\n",
              "      <th>99</th>\n",
              "      <td>NaN</td>\n",
              "      <td>Yes</td>\n",
              "    </tr>\n",
              "    <tr>\n",
              "      <th>100</th>\n",
              "      <td>No</td>\n",
              "      <td>Yes</td>\n",
              "    </tr>\n",
              "  </tbody>\n",
              "</table>\n",
              "<p>101 rows × 2 columns</p>\n",
              "</div>"
            ],
            "text/plain": [
              "    Physical/Mental_Compli Preventive_Steps\n",
              "0                      Yes              Yes\n",
              "1                      Yes              Yes\n",
              "2                       No              Yes\n",
              "3                       No              Yes\n",
              "4                      NaN              Yes\n",
              "..                     ...              ...\n",
              "96                      No              Yes\n",
              "97                      No              Yes\n",
              "98                     NaN              NaN\n",
              "99                     NaN              Yes\n",
              "100                     No              Yes\n",
              "\n",
              "[101 rows x 2 columns]"
            ]
          },
          "metadata": {},
          "execution_count": 13
        }
      ]
    },
    {
      "cell_type": "code",
      "metadata": {
        "colab": {
          "base_uri": "https://localhost:8080/",
          "height": 423
        },
        "id": "tS3CuH5Xe6C6",
        "outputId": "4edf87f2-899b-4f99-907a-35bbe15f5389"
      },
      "source": [
        "df_pre=df_pre.apply(lambda x: x.factorize()[0])\n",
        "df_pre"
      ],
      "execution_count": null,
      "outputs": [
        {
          "output_type": "execute_result",
          "data": {
            "text/html": [
              "<div>\n",
              "<style scoped>\n",
              "    .dataframe tbody tr th:only-of-type {\n",
              "        vertical-align: middle;\n",
              "    }\n",
              "\n",
              "    .dataframe tbody tr th {\n",
              "        vertical-align: top;\n",
              "    }\n",
              "\n",
              "    .dataframe thead th {\n",
              "        text-align: right;\n",
              "    }\n",
              "</style>\n",
              "<table border=\"1\" class=\"dataframe\">\n",
              "  <thead>\n",
              "    <tr style=\"text-align: right;\">\n",
              "      <th></th>\n",
              "      <th>Physical/Mental_Compli</th>\n",
              "      <th>Preventive_Steps</th>\n",
              "    </tr>\n",
              "  </thead>\n",
              "  <tbody>\n",
              "    <tr>\n",
              "      <th>0</th>\n",
              "      <td>0</td>\n",
              "      <td>0</td>\n",
              "    </tr>\n",
              "    <tr>\n",
              "      <th>1</th>\n",
              "      <td>0</td>\n",
              "      <td>0</td>\n",
              "    </tr>\n",
              "    <tr>\n",
              "      <th>2</th>\n",
              "      <td>1</td>\n",
              "      <td>0</td>\n",
              "    </tr>\n",
              "    <tr>\n",
              "      <th>3</th>\n",
              "      <td>1</td>\n",
              "      <td>0</td>\n",
              "    </tr>\n",
              "    <tr>\n",
              "      <th>4</th>\n",
              "      <td>-1</td>\n",
              "      <td>0</td>\n",
              "    </tr>\n",
              "    <tr>\n",
              "      <th>...</th>\n",
              "      <td>...</td>\n",
              "      <td>...</td>\n",
              "    </tr>\n",
              "    <tr>\n",
              "      <th>96</th>\n",
              "      <td>1</td>\n",
              "      <td>0</td>\n",
              "    </tr>\n",
              "    <tr>\n",
              "      <th>97</th>\n",
              "      <td>1</td>\n",
              "      <td>0</td>\n",
              "    </tr>\n",
              "    <tr>\n",
              "      <th>98</th>\n",
              "      <td>-1</td>\n",
              "      <td>-1</td>\n",
              "    </tr>\n",
              "    <tr>\n",
              "      <th>99</th>\n",
              "      <td>-1</td>\n",
              "      <td>0</td>\n",
              "    </tr>\n",
              "    <tr>\n",
              "      <th>100</th>\n",
              "      <td>1</td>\n",
              "      <td>0</td>\n",
              "    </tr>\n",
              "  </tbody>\n",
              "</table>\n",
              "<p>101 rows × 2 columns</p>\n",
              "</div>"
            ],
            "text/plain": [
              "     Physical/Mental_Compli  Preventive_Steps\n",
              "0                         0                 0\n",
              "1                         0                 0\n",
              "2                         1                 0\n",
              "3                         1                 0\n",
              "4                        -1                 0\n",
              "..                      ...               ...\n",
              "96                        1                 0\n",
              "97                        1                 0\n",
              "98                       -1                -1\n",
              "99                       -1                 0\n",
              "100                       1                 0\n",
              "\n",
              "[101 rows x 2 columns]"
            ]
          },
          "metadata": {},
          "execution_count": 14
        }
      ]
    },
    {
      "cell_type": "code",
      "metadata": {
        "colab": {
          "base_uri": "https://localhost:8080/",
          "height": 265
        },
        "id": "Ty6wpcBPfBYT",
        "outputId": "f00c1dfd-6e69-4a70-d35c-84d80b115bd6"
      },
      "source": [
        "df_pre.plot.kde();"
      ],
      "execution_count": null,
      "outputs": [
        {
          "output_type": "display_data",
          "data": {
            "image/png": "[encoded data removed]",
            "text/plain": [
              "<Figure size 432x288 with 1 Axes>"
            ]
          },
          "metadata": {
            "needs_background": "light"
          }
        }
      ]
    },
    {
      "cell_type": "code",
      "metadata": {
        "colab": {
          "base_uri": "https://localhost:8080/",
          "height": 423
        },
        "id": "RMtUvGHpfDPE",
        "outputId": "1a2cb9b7-1644-4d17-b8ac-065d93f9a3bf"
      },
      "source": [
        "\n",
        "df_pre = pd.read_csv(\"covidCSV.csv\", usecols = ['Willing','Vaccinated'])\n",
        "df_pre=df_pre.apply(lambda x: x.factorize()[0])\n",
        "df_pre"
      ],
      "execution_count": null,
      "outputs": [
        {
          "output_type": "execute_result",
          "data": {
            "text/html": [
              "<div>\n",
              "<style scoped>\n",
              "    .dataframe tbody tr th:only-of-type {\n",
              "        vertical-align: middle;\n",
              "    }\n",
              "\n",
              "    .dataframe tbody tr th {\n",
              "        vertical-align: top;\n",
              "    }\n",
              "\n",
              "    .dataframe thead th {\n",
              "        text-align: right;\n",
              "    }\n",
              "</style>\n",
              "<table border=\"1\" class=\"dataframe\">\n",
              "  <thead>\n",
              "    <tr style=\"text-align: right;\">\n",
              "      <th></th>\n",
              "      <th>Vaccinated</th>\n",
              "      <th>Willing</th>\n",
              "    </tr>\n",
              "  </thead>\n",
              "  <tbody>\n",
              "    <tr>\n",
              "      <th>0</th>\n",
              "      <td>0</td>\n",
              "      <td>-1</td>\n",
              "    </tr>\n",
              "    <tr>\n",
              "      <th>1</th>\n",
              "      <td>0</td>\n",
              "      <td>0</td>\n",
              "    </tr>\n",
              "    <tr>\n",
              "      <th>2</th>\n",
              "      <td>0</td>\n",
              "      <td>-1</td>\n",
              "    </tr>\n",
              "    <tr>\n",
              "      <th>3</th>\n",
              "      <td>1</td>\n",
              "      <td>0</td>\n",
              "    </tr>\n",
              "    <tr>\n",
              "      <th>4</th>\n",
              "      <td>0</td>\n",
              "      <td>-1</td>\n",
              "    </tr>\n",
              "    <tr>\n",
              "      <th>...</th>\n",
              "      <td>...</td>\n",
              "      <td>...</td>\n",
              "    </tr>\n",
              "    <tr>\n",
              "      <th>96</th>\n",
              "      <td>0</td>\n",
              "      <td>0</td>\n",
              "    </tr>\n",
              "    <tr>\n",
              "      <th>97</th>\n",
              "      <td>0</td>\n",
              "      <td>-1</td>\n",
              "    </tr>\n",
              "    <tr>\n",
              "      <th>98</th>\n",
              "      <td>1</td>\n",
              "      <td>0</td>\n",
              "    </tr>\n",
              "    <tr>\n",
              "      <th>99</th>\n",
              "      <td>1</td>\n",
              "      <td>0</td>\n",
              "    </tr>\n",
              "    <tr>\n",
              "      <th>100</th>\n",
              "      <td>0</td>\n",
              "      <td>-1</td>\n",
              "    </tr>\n",
              "  </tbody>\n",
              "</table>\n",
              "<p>101 rows × 2 columns</p>\n",
              "</div>"
            ],
            "text/plain": [
              "     Vaccinated  Willing\n",
              "0             0       -1\n",
              "1             0        0\n",
              "2             0       -1\n",
              "3             1        0\n",
              "4             0       -1\n",
              "..          ...      ...\n",
              "96            0        0\n",
              "97            0       -1\n",
              "98            1        0\n",
              "99            1        0\n",
              "100           0       -1\n",
              "\n",
              "[101 rows x 2 columns]"
            ]
          },
          "metadata": {},
          "execution_count": 16
        }
      ]
    },
    {
      "cell_type": "code",
      "metadata": {
        "colab": {
          "base_uri": "https://localhost:8080/",
          "height": 283
        },
        "id": "qJWxpTr5fbDr",
        "outputId": "ca157e38-b33e-4bdf-85a6-551d585fa30b"
      },
      "source": [
        "df_pre.plot.kde()"
      ],
      "execution_count": null,
      "outputs": [
        {
          "output_type": "execute_result",
          "data": {
            "text/plain": [
              "<matplotlib.axes._subplots.AxesSubplot at 0x7febbe805450>"
            ]
          },
          "metadata": {},
          "execution_count": 17
        },
        {
          "output_type": "display_data",
          "data": {
            "image/png": "[encoded data removed]",
            "text/plain": [
              "<Figure size 432x288 with 1 Axes>"
            ]
          },
          "metadata": {
            "needs_background": "light"
          }
        }
      ]
    },
    {
      "cell_type": "code",
      "metadata": {
        "colab": {
          "base_uri": "https://localhost:8080/",
          "height": 423
        },
        "id": "WpRh-LKzffLl",
        "outputId": "016ac788-9baa-4dd5-e119-fee6e691ddf4"
      },
      "source": [
        "df_pre = pd.read_csv(\"covidCSV.csv\", usecols = ['Age_Group','Covid_Infection'])\n",
        "df_pre=df_pre.apply(lambda x: x.factorize()[0])\n",
        "df_pre"
      ],
      "execution_count": null,
      "outputs": [
        {
          "output_type": "execute_result",
          "data": {
            "text/html": [
              "<div>\n",
              "<style scoped>\n",
              "    .dataframe tbody tr th:only-of-type {\n",
              "        vertical-align: middle;\n",
              "    }\n",
              "\n",
              "    .dataframe tbody tr th {\n",
              "        vertical-align: top;\n",
              "    }\n",
              "\n",
              "    .dataframe thead th {\n",
              "        text-align: right;\n",
              "    }\n",
              "</style>\n",
              "<table border=\"1\" class=\"dataframe\">\n",
              "  <thead>\n",
              "    <tr style=\"text-align: right;\">\n",
              "      <th></th>\n",
              "      <th>Age_Group</th>\n",
              "      <th>Covid_Infection</th>\n",
              "    </tr>\n",
              "  </thead>\n",
              "  <tbody>\n",
              "    <tr>\n",
              "      <th>0</th>\n",
              "      <td>0</td>\n",
              "      <td>0</td>\n",
              "    </tr>\n",
              "    <tr>\n",
              "      <th>1</th>\n",
              "      <td>0</td>\n",
              "      <td>0</td>\n",
              "    </tr>\n",
              "    <tr>\n",
              "      <th>2</th>\n",
              "      <td>0</td>\n",
              "      <td>1</td>\n",
              "    </tr>\n",
              "    <tr>\n",
              "      <th>3</th>\n",
              "      <td>0</td>\n",
              "      <td>1</td>\n",
              "    </tr>\n",
              "    <tr>\n",
              "      <th>4</th>\n",
              "      <td>0</td>\n",
              "      <td>1</td>\n",
              "    </tr>\n",
              "    <tr>\n",
              "      <th>...</th>\n",
              "      <td>...</td>\n",
              "      <td>...</td>\n",
              "    </tr>\n",
              "    <tr>\n",
              "      <th>96</th>\n",
              "      <td>0</td>\n",
              "      <td>1</td>\n",
              "    </tr>\n",
              "    <tr>\n",
              "      <th>97</th>\n",
              "      <td>0</td>\n",
              "      <td>1</td>\n",
              "    </tr>\n",
              "    <tr>\n",
              "      <th>98</th>\n",
              "      <td>1</td>\n",
              "      <td>1</td>\n",
              "    </tr>\n",
              "    <tr>\n",
              "      <th>99</th>\n",
              "      <td>1</td>\n",
              "      <td>1</td>\n",
              "    </tr>\n",
              "    <tr>\n",
              "      <th>100</th>\n",
              "      <td>0</td>\n",
              "      <td>1</td>\n",
              "    </tr>\n",
              "  </tbody>\n",
              "</table>\n",
              "<p>101 rows × 2 columns</p>\n",
              "</div>"
            ],
            "text/plain": [
              "     Age_Group  Covid_Infection\n",
              "0            0                0\n",
              "1            0                0\n",
              "2            0                1\n",
              "3            0                1\n",
              "4            0                1\n",
              "..         ...              ...\n",
              "96           0                1\n",
              "97           0                1\n",
              "98           1                1\n",
              "99           1                1\n",
              "100          0                1\n",
              "\n",
              "[101 rows x 2 columns]"
            ]
          },
          "metadata": {},
          "execution_count": 18
        }
      ]
    },
    {
      "cell_type": "code",
      "metadata": {
        "colab": {
          "base_uri": "https://localhost:8080/",
          "height": 283
        },
        "id": "yH4kr9nTftty",
        "outputId": "caa1e814-f5f1-4bd0-a13c-f4fee34ea958"
      },
      "source": [
        "df_pre.plot.kde()"
      ],
      "execution_count": null,
      "outputs": [
        {
          "output_type": "execute_result",
          "data": {
            "text/plain": [
              "<matplotlib.axes._subplots.AxesSubplot at 0x7febbe79d110>"
            ]
          },
          "metadata": {},
          "execution_count": 19
        },
        {
          "output_type": "display_data",
          "data": {
            "image/png": "[encoded data removed]",
            "text/plain": [
              "<Figure size 432x288 with 1 Axes>"
            ]
          },
          "metadata": {
            "needs_background": "light"
          }
        }
      ]
    },
    {
      "cell_type": "code",
      "metadata": {
        "colab": {
          "base_uri": "https://localhost:8080/",
          "height": 423
        },
        "id": "11UoAwurgc0a",
        "outputId": "97d0119d-6148-4803-8f62-ea1657cc96b5"
      },
      "source": [
        "df_pre = pd.read_csv(\"covidCSV.csv\", usecols = ['Gender','Covid_Infection'])\n",
        "df_pre=df_pre.apply(lambda x: x.factorize()[0])\n",
        "df_pre"
      ],
      "execution_count": null,
      "outputs": [
        {
          "output_type": "execute_result",
          "data": {
            "text/html": [
              "<div>\n",
              "<style scoped>\n",
              "    .dataframe tbody tr th:only-of-type {\n",
              "        vertical-align: middle;\n",
              "    }\n",
              "\n",
              "    .dataframe tbody tr th {\n",
              "        vertical-align: top;\n",
              "    }\n",
              "\n",
              "    .dataframe thead th {\n",
              "        text-align: right;\n",
              "    }\n",
              "</style>\n",
              "<table border=\"1\" class=\"dataframe\">\n",
              "  <thead>\n",
              "    <tr style=\"text-align: right;\">\n",
              "      <th></th>\n",
              "      <th>Gender</th>\n",
              "      <th>Covid_Infection</th>\n",
              "    </tr>\n",
              "  </thead>\n",
              "  <tbody>\n",
              "    <tr>\n",
              "      <th>0</th>\n",
              "      <td>0</td>\n",
              "      <td>0</td>\n",
              "    </tr>\n",
              "    <tr>\n",
              "      <th>1</th>\n",
              "      <td>1</td>\n",
              "      <td>0</td>\n",
              "    </tr>\n",
              "    <tr>\n",
              "      <th>2</th>\n",
              "      <td>1</td>\n",
              "      <td>1</td>\n",
              "    </tr>\n",
              "    <tr>\n",
              "      <th>3</th>\n",
              "      <td>0</td>\n",
              "      <td>1</td>\n",
              "    </tr>\n",
              "    <tr>\n",
              "      <th>4</th>\n",
              "      <td>1</td>\n",
              "      <td>1</td>\n",
              "    </tr>\n",
              "    <tr>\n",
              "      <th>...</th>\n",
              "      <td>...</td>\n",
              "      <td>...</td>\n",
              "    </tr>\n",
              "    <tr>\n",
              "      <th>96</th>\n",
              "      <td>1</td>\n",
              "      <td>1</td>\n",
              "    </tr>\n",
              "    <tr>\n",
              "      <th>97</th>\n",
              "      <td>0</td>\n",
              "      <td>1</td>\n",
              "    </tr>\n",
              "    <tr>\n",
              "      <th>98</th>\n",
              "      <td>1</td>\n",
              "      <td>1</td>\n",
              "    </tr>\n",
              "    <tr>\n",
              "      <th>99</th>\n",
              "      <td>1</td>\n",
              "      <td>1</td>\n",
              "    </tr>\n",
              "    <tr>\n",
              "      <th>100</th>\n",
              "      <td>1</td>\n",
              "      <td>1</td>\n",
              "    </tr>\n",
              "  </tbody>\n",
              "</table>\n",
              "<p>101 rows × 2 columns</p>\n",
              "</div>"
            ],
            "text/plain": [
              "     Gender  Covid_Infection\n",
              "0         0                0\n",
              "1         1                0\n",
              "2         1                1\n",
              "3         0                1\n",
              "4         1                1\n",
              "..      ...              ...\n",
              "96        1                1\n",
              "97        0                1\n",
              "98        1                1\n",
              "99        1                1\n",
              "100       1                1\n",
              "\n",
              "[101 rows x 2 columns]"
            ]
          },
          "metadata": {},
          "execution_count": 21
        }
      ]
    },
    {
      "cell_type": "code",
      "metadata": {
        "colab": {
          "base_uri": "https://localhost:8080/",
          "height": 283
        },
        "id": "l8S6GRz8ghBa",
        "outputId": "31f4de63-3667-4ca2-913f-a37d1a0df745"
      },
      "source": [
        "df_pre.plot.kde()"
      ],
      "execution_count": null,
      "outputs": [
        {
          "output_type": "execute_result",
          "data": {
            "text/plain": [
              "<matplotlib.axes._subplots.AxesSubplot at 0x7febbe715cd0>"
            ]
          },
          "metadata": {},
          "execution_count": 22
        },
        {
          "output_type": "display_data",
          "data": {
            "image/png": "[encoded data removed]",
            "text/plain": [
              "<Figure size 432x288 with 1 Axes>"
            ]
          },
          "metadata": {
            "needs_background": "light"
          }
        }
      ]
    }
  ]
}